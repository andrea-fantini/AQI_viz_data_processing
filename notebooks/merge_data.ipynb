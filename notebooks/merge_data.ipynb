{
 "cells": [
  {
   "cell_type": "code",
   "execution_count": 14,
   "metadata": {},
   "outputs": [],
   "source": [
    "import pandas as pd"
   ]
  },
  {
   "cell_type": "code",
   "execution_count": 34,
   "metadata": {},
   "outputs": [],
   "source": [
    "file1 = '../data/concord.csv'\n",
    "file2 = '../data/milano.csv'\n",
    "\n",
    "\n",
    "with open(file1, 'r') as file_object :\n",
    "    file1_df=pd.read_csv(file_object)\n",
    "    \n",
    "    \n",
    "with open(file2, 'r') as file_object :\n",
    "    file2_df=pd.read_csv(file_object)\n",
    "   \n"
   ]
  },
  {
   "cell_type": "code",
   "execution_count": 35,
   "metadata": {},
   "outputs": [],
   "source": [
    "my_data_conc = pd.concat([file1_df,file2_df])\n",
    "my_data_conc.to_csv('../data/all_conc.csv')"
   ]
  },
  {
   "cell_type": "code",
   "execution_count": 38,
   "metadata": {},
   "outputs": [],
   "source": [
    "my_data_merge = pd.merge(file1_df, file2_df, how='inner', on='date', suffixes=('_US', '_IT'))\n",
    "my_data_merge['date'] =pd.to_datetime(my_data_merge.date)\n",
    "my_data_merge.sort_values(by=['date'], inplace=True, ascending=False)\n",
    "my_data_merge.to_csv('../data/all_merge.csv')"
   ]
  },
  {
   "cell_type": "code",
   "execution_count": null,
   "metadata": {},
   "outputs": [],
   "source": []
  }
 ],
 "metadata": {
  "kernelspec": {
   "display_name": "Python [conda env:AQI_viz_data_processing]",
   "language": "python",
   "name": "conda-env-AQI_viz_data_processing-py"
  },
  "language_info": {
   "codemirror_mode": {
    "name": "ipython",
    "version": 3
   },
   "file_extension": ".py",
   "mimetype": "text/x-python",
   "name": "python",
   "nbconvert_exporter": "python",
   "pygments_lexer": "ipython3",
   "version": "3.8.6"
  }
 },
 "nbformat": 4,
 "nbformat_minor": 4
}
