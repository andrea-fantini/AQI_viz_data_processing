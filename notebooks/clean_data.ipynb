{
 "cells": [
  {
   "cell_type": "code",
   "execution_count": 28,
   "metadata": {
    "scrolled": true
   },
   "outputs": [],
   "source": [
    "import os\n",
    "import pandas as pd\n",
    "import datetime"
   ]
  },
  {
   "cell_type": "code",
   "execution_count": 29,
   "metadata": {},
   "outputs": [
    {
     "data": {
      "text/html": [
       "<div>\n",
       "<style scoped>\n",
       "    .dataframe tbody tr th:only-of-type {\n",
       "        vertical-align: middle;\n",
       "    }\n",
       "\n",
       "    .dataframe tbody tr th {\n",
       "        vertical-align: top;\n",
       "    }\n",
       "\n",
       "    .dataframe thead th {\n",
       "        text-align: right;\n",
       "    }\n",
       "</style>\n",
       "<table border=\"1\" class=\"dataframe\">\n",
       "  <thead>\n",
       "    <tr style=\"text-align: right;\">\n",
       "      <th></th>\n",
       "      <th>date</th>\n",
       "      <th>PM10</th>\n",
       "    </tr>\n",
       "  </thead>\n",
       "  <tbody>\n",
       "  </tbody>\n",
       "</table>\n",
       "</div>"
      ],
      "text/plain": [
       "Empty DataFrame\n",
       "Columns: [date, PM10]\n",
       "Index: []"
      ]
     },
     "execution_count": 29,
     "metadata": {},
     "output_type": "execute_result"
    }
   ],
   "source": [
    "lat = 37\n",
    "long = -122\n",
    "city='concord'\n",
    "\n",
    "# lat = 45\n",
    "# long = 7.6\n",
    "# city='milano'\n",
    "\n",
    "directory = '../data/'+city\n",
    "\n",
    "my_data=pd.DataFrame(columns=['date','PM10'])\n",
    "my_data"
   ]
  },
  {
   "cell_type": "code",
   "execution_count": 30,
   "metadata": {},
   "outputs": [],
   "source": [
    "for filename in os.listdir(directory):\n",
    "    if filename.endswith(\".csv\") :\n",
    "        #rint(os.path.join(directory, filename))\n",
    "        # open file import relative colums and append to dataframe\n",
    "        with open(os.path.join(directory, filename), 'r') as file_object :\n",
    "            my_data = my_data.append(pd.read_csv(file_object, usecols=[0,3], names=['date','PM10'],header=0))\n",
    "    else:\n",
    "        continue\n",
    "my_data['date'] = my_data['date'].apply(lambda x : datetime.datetime.strptime(x, '%Y-%m-%d %H:%M:%S %Z').strftime(\"%d/%m/%Y\"))\n",
    "my_data.dropna(axis='rows', inplace=True)\n",
    "#y_data.info"
   ]
  },
  {
   "cell_type": "code",
   "execution_count": 31,
   "metadata": {
    "scrolled": true
   },
   "outputs": [],
   "source": [
    "my_grouped_data = my_data.groupby(by='date').mean()\n",
    "#my_grouped_data"
   ]
  },
  {
   "cell_type": "code",
   "execution_count": 32,
   "metadata": {},
   "outputs": [],
   "source": [
    "def AQI_calc(x) :\n",
    "    if float(x) <= 50 :\n",
    "        return 'Good'\n",
    "    elif float(x) <= 100 :\n",
    "        return 'Moderate'\n",
    "    elif float(x) <= 150 : \n",
    "        return 'USG'\n",
    "    elif float(x) <= 200 :\n",
    "        return 'Unhealthy'\n",
    "    elif float(x) <= 300 :\n",
    "        return 'Very Unhealthy'\n",
    "    else :\n",
    "        return 'Hazardous'\n",
    "    \n"
   ]
  },
  {
   "cell_type": "code",
   "execution_count": 33,
   "metadata": {},
   "outputs": [
    {
     "data": {
      "text/html": [
       "<div>\n",
       "<style scoped>\n",
       "    .dataframe tbody tr th:only-of-type {\n",
       "        vertical-align: middle;\n",
       "    }\n",
       "\n",
       "    .dataframe tbody tr th {\n",
       "        vertical-align: top;\n",
       "    }\n",
       "\n",
       "    .dataframe thead th {\n",
       "        text-align: right;\n",
       "    }\n",
       "</style>\n",
       "<table border=\"1\" class=\"dataframe\">\n",
       "  <thead>\n",
       "    <tr style=\"text-align: right;\">\n",
       "      <th></th>\n",
       "      <th>PM10</th>\n",
       "      <th>AQI</th>\n",
       "      <th>lat</th>\n",
       "      <th>long</th>\n",
       "    </tr>\n",
       "    <tr>\n",
       "      <th>date</th>\n",
       "      <th></th>\n",
       "      <th></th>\n",
       "      <th></th>\n",
       "      <th></th>\n",
       "    </tr>\n",
       "  </thead>\n",
       "  <tbody>\n",
       "    <tr>\n",
       "      <th>01/01/2019</th>\n",
       "      <td>3.880</td>\n",
       "      <td>Good</td>\n",
       "      <td>37</td>\n",
       "      <td>-122</td>\n",
       "    </tr>\n",
       "    <tr>\n",
       "      <th>01/02/2019</th>\n",
       "      <td>26.250</td>\n",
       "      <td>Good</td>\n",
       "      <td>37</td>\n",
       "      <td>-122</td>\n",
       "    </tr>\n",
       "    <tr>\n",
       "      <th>01/03/2019</th>\n",
       "      <td>7.730</td>\n",
       "      <td>Good</td>\n",
       "      <td>37</td>\n",
       "      <td>-122</td>\n",
       "    </tr>\n",
       "    <tr>\n",
       "      <th>01/04/2019</th>\n",
       "      <td>7.885</td>\n",
       "      <td>Good</td>\n",
       "      <td>37</td>\n",
       "      <td>-122</td>\n",
       "    </tr>\n",
       "    <tr>\n",
       "      <th>01/06/2019</th>\n",
       "      <td>22.605</td>\n",
       "      <td>Good</td>\n",
       "      <td>37</td>\n",
       "      <td>-122</td>\n",
       "    </tr>\n",
       "    <tr>\n",
       "      <th>...</th>\n",
       "      <td>...</td>\n",
       "      <td>...</td>\n",
       "      <td>...</td>\n",
       "      <td>...</td>\n",
       "    </tr>\n",
       "    <tr>\n",
       "      <th>31/08/2018</th>\n",
       "      <td>43.945</td>\n",
       "      <td>Good</td>\n",
       "      <td>37</td>\n",
       "      <td>-122</td>\n",
       "    </tr>\n",
       "    <tr>\n",
       "      <th>31/08/2019</th>\n",
       "      <td>20.765</td>\n",
       "      <td>Good</td>\n",
       "      <td>37</td>\n",
       "      <td>-122</td>\n",
       "    </tr>\n",
       "    <tr>\n",
       "      <th>31/08/2020</th>\n",
       "      <td>195.200</td>\n",
       "      <td>Unhealthy</td>\n",
       "      <td>37</td>\n",
       "      <td>-122</td>\n",
       "    </tr>\n",
       "    <tr>\n",
       "      <th>31/10/2018</th>\n",
       "      <td>5.060</td>\n",
       "      <td>Good</td>\n",
       "      <td>37</td>\n",
       "      <td>-122</td>\n",
       "    </tr>\n",
       "    <tr>\n",
       "      <th>31/12/2018</th>\n",
       "      <td>30.075</td>\n",
       "      <td>Good</td>\n",
       "      <td>37</td>\n",
       "      <td>-122</td>\n",
       "    </tr>\n",
       "  </tbody>\n",
       "</table>\n",
       "<p>525 rows × 4 columns</p>\n",
       "</div>"
      ],
      "text/plain": [
       "               PM10        AQI  lat  long\n",
       "date                                     \n",
       "01/01/2019    3.880       Good   37  -122\n",
       "01/02/2019   26.250       Good   37  -122\n",
       "01/03/2019    7.730       Good   37  -122\n",
       "01/04/2019    7.885       Good   37  -122\n",
       "01/06/2019   22.605       Good   37  -122\n",
       "...             ...        ...  ...   ...\n",
       "31/08/2018   43.945       Good   37  -122\n",
       "31/08/2019   20.765       Good   37  -122\n",
       "31/08/2020  195.200  Unhealthy   37  -122\n",
       "31/10/2018    5.060       Good   37  -122\n",
       "31/12/2018   30.075       Good   37  -122\n",
       "\n",
       "[525 rows x 4 columns]"
      ]
     },
     "execution_count": 33,
     "metadata": {},
     "output_type": "execute_result"
    }
   ],
   "source": [
    "my_grouped_data['AQI']=0\n",
    "my_grouped_data['AQI'] = my_grouped_data['PM10'].apply(lambda x : AQI_calc(x))\n",
    "my_grouped_data['lat']=lat\n",
    "my_grouped_data['long']=long\n",
    "\n",
    "my_grouped_data"
   ]
  },
  {
   "cell_type": "code",
   "execution_count": 34,
   "metadata": {},
   "outputs": [],
   "source": [
    "my_grouped_data.to_csv('../data/'+city+'.csv')"
   ]
  },
  {
   "cell_type": "code",
   "execution_count": null,
   "metadata": {},
   "outputs": [],
   "source": []
  }
 ],
 "metadata": {
  "kernelspec": {
   "display_name": "Python [conda env:AQI_viz_data_processing]",
   "language": "python",
   "name": "conda-env-AQI_viz_data_processing-py"
  },
  "language_info": {
   "codemirror_mode": {
    "name": "ipython",
    "version": 3
   },
   "file_extension": ".py",
   "mimetype": "text/x-python",
   "name": "python",
   "nbconvert_exporter": "python",
   "pygments_lexer": "ipython3",
   "version": "3.8.6"
  }
 },
 "nbformat": 4,
 "nbformat_minor": 4
}
