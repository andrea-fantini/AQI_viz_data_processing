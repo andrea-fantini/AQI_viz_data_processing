{
 "cells": [
  {
   "cell_type": "code",
   "execution_count": 8,
   "metadata": {
    "scrolled": true
   },
   "outputs": [],
   "source": [
    "import os\n",
    "import pandas as pd\n",
    "import datetime"
   ]
  },
  {
   "cell_type": "code",
   "execution_count": 9,
   "metadata": {},
   "outputs": [],
   "source": [
    "def AQI_calc(x) :\n",
    "    if float(x) <= 50 :\n",
    "        return 'Good'\n",
    "    elif float(x) <= 100 :\n",
    "        return 'Moderate'\n",
    "    elif float(x) <= 150 : \n",
    "        return 'USG'\n",
    "    elif float(x) <= 200 :\n",
    "        return 'Unhealthy'\n",
    "    elif float(x) <= 300 :\n",
    "        return 'Very Unhealthy'\n",
    "    else :\n",
    "        return 'Hazardous'\n"
   ]
  },
  {
   "cell_type": "code",
   "execution_count": 12,
   "metadata": {},
   "outputs": [],
   "source": [
    "# lat = 37\n",
    "# long = -122\n",
    "# city='concord'\n",
    "\n",
    "lat = 45\n",
    "long = 7.6\n",
    "city='milano'\n",
    "\n"
   ]
  },
  {
   "cell_type": "code",
   "execution_count": 13,
   "metadata": {},
   "outputs": [],
   "source": [
    "directory = '../data/'+city\n",
    "my_data=pd.DataFrame(columns=['date','PM10'])\n",
    "\n",
    "for filename in os.listdir(directory):\n",
    "    if filename.endswith(\".csv\") :\n",
    "        #rint(os.path.join(directory, filename))\n",
    "        # open file import relative colums and append to dataframe\n",
    "        with open(os.path.join(directory, filename), 'r') as file_object :\n",
    "            my_data = my_data.append(pd.read_csv(file_object, usecols=[0,3], names=['date','PM10'],header=0))\n",
    "    else:\n",
    "        continue\n",
    "\n",
    "my_data['date'] = my_data['date'].apply(lambda x : datetime.datetime.strptime(x, '%Y-%m-%d %H:%M:%S %Z').strftime(\"%d/%m/%Y\"))\n",
    "my_data.dropna(axis='rows', inplace=True)\n",
    "my_grouped_data = my_data.groupby(by='date').mean()\n",
    "my_grouped_data['AQI']=0\n",
    "my_grouped_data['AQI'] = my_grouped_data['PM10'].apply(lambda x : AQI_calc(x))\n",
    "my_grouped_data['lat']=lat\n",
    "my_grouped_data['long']=long\n",
    "my_grouped_data.to_csv('../data/'+city+'.csv')"
   ]
  }
 ],
 "metadata": {
  "kernelspec": {
   "display_name": "Python [conda env:AQI_viz_data_processing]",
   "language": "python",
   "name": "conda-env-AQI_viz_data_processing-py"
  },
  "language_info": {
   "codemirror_mode": {
    "name": "ipython",
    "version": 3
   },
   "file_extension": ".py",
   "mimetype": "text/x-python",
   "name": "python",
   "nbconvert_exporter": "python",
   "pygments_lexer": "ipython3",
   "version": "3.8.6"
  }
 },
 "nbformat": 4,
 "nbformat_minor": 4
}
