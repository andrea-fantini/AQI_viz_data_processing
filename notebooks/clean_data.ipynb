{
 "cells": [
  {
   "cell_type": "markdown",
   "metadata": {},
   "source": [
    "Data downloaded from Purple Air, around Milan, Italy and Walnut Creek, California. Selected a few sensor to average out and filtered out the *inside* sensors.\n",
    "\n",
    "North of Italy\n",
    "https://www.purpleair.com/map?opt=1/mAQI/a10/cC0#8.68/45.2634/8.8042\n",
    "\n",
    "https://www.purpleair.com/sensorlist?exclude=true&nwlat=45.787619691362494&selat=44.73429255594439&nwlng=7.160429912659254&selng=10.447989925169566\n",
    "\n",
    "\n",
    "Walnut Creek, California\n",
    "https://www.purpleair.com/map?opt=1/i/mAQI/a10/cC0&select=53517#13.41/37.90262/-122.04889\n",
    "\n",
    "https://www.purpleair.com/sensorlist?exclude=true&nwlat=37.92492052460308&selat=37.88031769472657&nwlng=-122.11097636966711&selng=-121.98679844265672"
   ]
  },
  {
   "cell_type": "code",
   "execution_count": 8,
   "metadata": {
    "scrolled": true
   },
   "outputs": [],
   "source": [
    "import os\n",
    "import pandas as pd\n",
    "import datetime"
   ]
  },
  {
   "cell_type": "code",
   "execution_count": 9,
   "metadata": {},
   "outputs": [],
   "source": [
    "def AQI_calc(x) :\n",
    "    if float(x) <= 50 :\n",
    "        return 'Good'\n",
    "    elif float(x) <= 100 :\n",
    "        return 'Moderate'\n",
    "    elif float(x) <= 150 : \n",
    "        return 'USG'\n",
    "    elif float(x) <= 200 :\n",
    "        return 'Unhealthy'\n",
    "    elif float(x) <= 300 :\n",
    "        return 'Very Unhealthy'\n",
    "    else :\n",
    "        return 'Hazardous'\n"
   ]
  },
  {
   "cell_type": "code",
   "execution_count": 12,
   "metadata": {},
   "outputs": [],
   "source": [
    "# lat = 37\n",
    "# long = -122\n",
    "# city='concord'\n",
    "\n",
    "lat = 45\n",
    "long = 7.6\n",
    "city='milano'\n",
    "\n"
   ]
  },
  {
   "cell_type": "code",
   "execution_count": 13,
   "metadata": {},
   "outputs": [],
   "source": [
    "directory = '../data/'+city\n",
    "my_data=pd.DataFrame(columns=['date','PM10'])\n",
    "\n",
    "for filename in os.listdir(directory):\n",
    "    if filename.endswith(\".csv\") :\n",
    "        #rint(os.path.join(directory, filename))\n",
    "        # open file import relative colums and append to dataframe\n",
    "        with open(os.path.join(directory, filename), 'r') as file_object :\n",
    "            my_data = my_data.append(pd.read_csv(file_object, usecols=[0,3], names=['date','PM10'],header=0))\n",
    "    else:\n",
    "        continue\n",
    "\n",
    "my_data['date'] = my_data['date'].apply(lambda x : datetime.datetime.strptime(x, '%Y-%m-%d %H:%M:%S %Z').strftime(\"%d/%m/%Y\"))\n",
    "my_data.dropna(axis='rows', inplace=True)\n",
    "my_grouped_data = my_data.groupby(by='date').mean()\n",
    "my_grouped_data['AQI']=0\n",
    "my_grouped_data['AQI'] = my_grouped_data['PM10'].apply(lambda x : AQI_calc(x))\n",
    "my_grouped_data['lat']=lat\n",
    "my_grouped_data['long']=long\n",
    "my_grouped_data.to_csv('../data/'+city+'.csv')"
   ]
  }
 ],
 "metadata": {
  "kernelspec": {
   "display_name": "Python [conda env:AQI_viz_data_processing]",
   "language": "python",
   "name": "conda-env-AQI_viz_data_processing-py"
  },
  "language_info": {
   "codemirror_mode": {
    "name": "ipython",
    "version": 3
   },
   "file_extension": ".py",
   "mimetype": "text/x-python",
   "name": "python",
   "nbconvert_exporter": "python",
   "pygments_lexer": "ipython3",
   "version": "3.8.6"
  }
 },
 "nbformat": 4,
 "nbformat_minor": 4
}
